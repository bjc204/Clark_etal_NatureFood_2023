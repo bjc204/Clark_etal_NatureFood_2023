{
 "cells": [
  {
   "cell_type": "markdown",
   "id": "9c552699-3332-418f-a489-d77ad7d6a999",
   "metadata": {},
   "source": [
    "###Figure 4, 5, and 6 from Nature Food Clark et al., 2023 "
   ]
  },
  {
   "cell_type": "code",
   "execution_count": null,
   "id": "e17626c2-2f90-40ac-a252-c78f75638db4",
   "metadata": {},
   "outputs": [],
   "source": [
    "#This notebook requires plotly\n",
    "import pandas as pd\n",
    "import matplotlib.pylab as plt\n",
    "import plotly as py\n",
    "import numpy as np\n",
    "from plotly.offline import download_plotlyjs,init_notebook_mode,plot,iplot\n",
    "import plotly.graph_objs as go\n",
    "from plotly.subplots import make_subplots\n",
    "import plotly.express as px\n",
    "import plotly.subplots as sp"
   ]
  },
  {
   "cell_type": "code",
   "execution_count": null,
   "id": "648faa02-fdac-41a5-a6b1-65b3bd2a1ce7",
   "metadata": {},
   "outputs": [],
   "source": [
    "filedir = '/glade/p/univ/urtg0006/Brendan/clmcrop/yield_landuse/'"
   ]
  },
  {
   "cell_type": "code",
   "execution_count": null,
   "id": "8fcb63d6-31df-466d-bd5a-4ade2e99b7fc",
   "metadata": {},
   "outputs": [],
   "source": [
    "#Figure 4\n",
    "SSP2 = pd.read_excel(filedir + '/SSP2_landuse_country_cal_max.xlsx')\n",
    "SSP2['SUM'] = SSP2['SUM'].fillna('No production')\n",
    "SSP2['MAIZE'] = SSP2['MAIZE'].fillna('No production')\n",
    "SSP2['RICE'] = SSP2['RICE'].fillna('No production')\n",
    "SSP2['SOY'] = SSP2['SOY'].fillna('No production')\n",
    "SSP2['WHEAT'] = SSP2['WHEAT'].fillna('No production')\n",
    "\n",
    "fig = px.choropleth(locations=SSP2['name'], \n",
    "                    locationmode=\"country names\",\n",
    "                    #plot map for idividual crops or sum of production for all 4 crops\n",
    "                    color=SSP2['SUM'],\n",
    "                    color_discrete_map={'No production':'#f0f0f0',\n",
    "                                        'SSP2-4.5-0.5°C':'#a63603',\n",
    "                                        'SSP2-4.5-1.0°C':'#31a354',\n",
    "                                        'SSP2-4.5-1.5°C':'#fd8d3c',\n",
    "                                        'SSP2-4.5':'#2171b5'},\n",
    "                    title=\"SSP2 Scenarios with Highest Total Calories by Nation (2060-2069)\",\n",
    "                    category_orders={'color':[\"SSP2-4.5\", \"SSP2-4.5-1.5°C\", \"SSP2-4.5-1.0°C\", \"SSP2-4.5-0.5°C\", \"No production\"]})\n",
    "fig.update_geos(projection_type=\"robinson\",lataxis_range=[-60,80])\n",
    "fig.update_layout(title={'xanchor': 'center','x':0.45,'y':0.88},\n",
    "                  legend=dict(title=\"Scenario with highest calories\", orientation=\"v\", y=0.11, yanchor=\"bottom\", x=0.265, xanchor=\"right\")\n",
    "                  )\n",
    "fig.update_layout(\n",
    "    autosize=False,\n",
    "    width=1350,\n",
    "    height=700,\n",
    "    font=dict(\n",
    "        size=18,\n",
    "        color=\"Black\"\n",
    "    ))\n",
    "fig.show()"
   ]
  },
  {
   "cell_type": "code",
   "execution_count": null,
   "id": "215ddfe0-e7c9-49c0-b5f1-592229c160a2",
   "metadata": {},
   "outputs": [],
   "source": [
    "#Figure 5\n",
    "SSP585 = pd.read_excel(filedir + '/country_cal_max_SSP585_landuse.xlsx')\n",
    "SSP585['SUM'] = SSP585['SUM'].fillna('No production')\n",
    "SSP585['MAIZE'] = SSP585['MAIZE'].fillna('No production')\n",
    "SSP585['RICE'] = SSP585['RICE'].fillna('No production')\n",
    "SSP585['SOY'] = SSP585['SOY'].fillna('No production')\n",
    "SSP585['WHEAT'] = SSP585['WHEAT'].fillna('No production')\n",
    "\n",
    "fig = px.choropleth(locations=SSP585['name'], \n",
    "                    locationmode=\"country names\",\n",
    "                    color=SSP5['SUM'],\n",
    "                    color_discrete_map={'No production':'#f0f0f0',\n",
    "                                        'G6Sulfur':'#4d4d4d',\n",
    "                                        'G6Solar':'#b2df8a',\n",
    "                                        'SSP5-8.5-1.5°C':'#ADD8E6',\n",
    "                                        'SSP5-8.5':'#e41a1c'},\n",
    "                    title=\"SSP5 Scenarios with Highest Calories from Wheat by Nation (2060-2069 average)\",\n",
    "                    category_orders={'color':[\"SSP5-3.4-OS\", \"SSP5-3.4-1.5°C\", \"SSP5-3.4-2.0°C\", \"No production\"]})\n",
    "fig.update_geos(projection_type=\"robinson\",lataxis_range=[-60,80])\n",
    "fig.update_layout(title={'xanchor': 'center','x':0.45,'y':0.88},\n",
    "                  legend=dict(title=\"Scenario with highest calories\", orientation=\"v\", y=0.11, yanchor=\"bottom\", x=0.265, xanchor=\"right\")\n",
    "                  )\n",
    "fig.update_layout(\n",
    "    autosize=False,\n",
    "    width=1350,\n",
    "    height=700,\n",
    "    font=dict(\n",
    "        size=18,\n",
    "        color=\"Black\"\n",
    "    ))\n",
    "fig.show()"
   ]
  },
  {
   "cell_type": "code",
   "execution_count": null,
   "id": "bb1c798a-9c67-42d4-8271-ba267ede9e16",
   "metadata": {},
   "outputs": [],
   "source": [
    "#Figure 6\n",
    "SSP534 = pd.read_excel(filedir + '/country_cal_max_SSP534_landuse.xlsx')\n",
    "SSP534['SUM'] = SSP534['SUM'].fillna('No production')\n",
    "SSP534['MAIZE'] = SSP534['MAIZE'].fillna('No production')\n",
    "SSP534['RICE'] = SSP534['RICE'].fillna('No production')\n",
    "SSP534['SOY'] = SSP534['SOY'].fillna('No production')\n",
    "SSP534['WHEAT'] = SSP534['WHEAT'].fillna('No production')\n",
    "\n",
    "fig = px.choropleth(locations=SSP534['name'], \n",
    "                    locationmode=\"country names\",\n",
    "                    color=SSP534['SUM'],\n",
    "                    color_discrete_map={'No production':'#f0f0f0',\n",
    "                                        'SSP5-3.4-2.0°C':'#999999',\n",
    "                                        'SSP5-3.4-1.5°C':'#984ea3',\n",
    "                                        'SSP5-3.4-OS':'#ffff33'},\n",
    "                    title=\"SSP5 Scenarios with Highest Calories from Wheat by Nation (2060-2069 average)\",\n",
    "                    category_orders={'color':[\"SSP5-3.4-OS\", \"SSP5-3.4-1.5°C\", \"SSP5-3.4-2.0°C\"]})\n",
    "fig.update_geos(projection_type=\"robinson\",lataxis_range=[-60,80])\n",
    "fig.update_layout(title={'xanchor': 'center','x':0.45,'y':0.88},\n",
    "                  legend=dict(title=\"Scenario with highest calories\", orientation=\"v\", y=0.11, yanchor=\"bottom\", x=0.265, xanchor=\"right\")\n",
    "                  )\n",
    "fig.update_layout(\n",
    "    autosize=False,\n",
    "    width=1350,\n",
    "    height=700,\n",
    "    font=dict(\n",
    "        size=18,\n",
    "        color=\"Black\"\n",
    "    ))\n",
    "fig.show()"
   ]
  }
 ],
 "metadata": {
  "kernelspec": {
   "display_name": "Python 3 (ipykernel)",
   "language": "python",
   "name": "python3"
  },
  "language_info": {
   "codemirror_mode": {
    "name": "ipython",
    "version": 3
   },
   "file_extension": ".py",
   "mimetype": "text/x-python",
   "name": "python",
   "nbconvert_exporter": "python",
   "pygments_lexer": "ipython3",
   "version": "3.9.12"
  }
 },
 "nbformat": 4,
 "nbformat_minor": 5
}
